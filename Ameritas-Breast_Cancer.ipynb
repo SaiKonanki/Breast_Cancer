{
 "cells": [
  {
   "cell_type": "code",
   "execution_count": 103,
   "metadata": {},
   "outputs": [],
   "source": [
    "# importing the data\n",
    "\n",
    "import pandas as pd\n",
    "\n",
    "df = pd.read_csv(\"breast-cancer-wisconsin.csv\")"
   ]
  },
  {
   "cell_type": "markdown",
   "metadata": {},
   "source": [
    "# Summary of results:\n",
    "\n",
    "# 1. Preprocessing steps:\n",
    "\n",
    "We have looked at the distribution of target variable and created a count plot to show this, correlation heatmap is also created to understand correlations between variables and we can see that there is high correlation between uniformity_cell_size and uniformity_cell_Shape. The target variable has been recoded to 0 and 1 to facilitate binary classification. Here, to avoid multicollinearity we considered only uniformity cell size and not uniformity cell shape since they have > 0.9 correlation. \n",
    "\n",
    "# 2. Prepare the data set by removing outliers and impute missing values and run various models to predict the approval rating\n",
    "\n",
    "Missing values are removed, though we do not have any null values, we have removed columns with special characters. Outliers are treated using z score, as the thumb rule is 99.97% of the data lies less than 3 standard deviations from the mean\n",
    "\n",
    "# 3. How do you create train and test data sets for model testing and accuracy?  Show at least 2-3 model approaches for the solution. Which one do you prefer and why? Show the confusion matrix for the accuracy? What are other methods used to show the accuracy?\n",
    "\n",
    "A. Usedd 80-20 split to create train and test datasets, Built LGBM, Logistic regression, and random forest models to perform binary classification. Looking at the evaluation metrics we could say that random forest is performing better. We have looked at accuracy, precision, recall, and AUC values to choose the best model. \n",
    "\n",
    "# 4. What are the predictors from the approved model? Why?\n",
    "\n",
    "A. the most important variables from the model are Uniformity_CellSize, Bare_nuclei, Bland_Chromatin"
   ]
  },
  {
   "cell_type": "code",
   "execution_count": 104,
   "metadata": {},
   "outputs": [
    {
     "name": "stdout",
     "output_type": "stream",
     "text": [
      "<class 'pandas.core.frame.DataFrame'>\n",
      "RangeIndex: 699 entries, 0 to 698\n",
      "Data columns (total 11 columns):\n",
      "ID                      699 non-null int64\n",
      "Clump_Thickness         699 non-null int64\n",
      "Uniformity_CellSize     699 non-null int64\n",
      "Uniformity_CellShape    699 non-null int64\n",
      "MarginalAdhesion        699 non-null int64\n",
      "SE_CellSize             699 non-null int64\n",
      "Bare_Nuclei             699 non-null object\n",
      "Bland_Chromatin         699 non-null int64\n",
      "N_Nucleoli              699 non-null int64\n",
      "Mitoses                 699 non-null int64\n",
      "Result                  699 non-null int64\n",
      "dtypes: int64(10), object(1)\n",
      "memory usage: 60.1+ KB\n"
     ]
    }
   ],
   "source": [
    "df.info()"
   ]
  },
  {
   "cell_type": "code",
   "execution_count": 105,
   "metadata": {},
   "outputs": [
    {
     "data": {
      "text/html": [
       "<div>\n",
       "<style scoped>\n",
       "    .dataframe tbody tr th:only-of-type {\n",
       "        vertical-align: middle;\n",
       "    }\n",
       "\n",
       "    .dataframe tbody tr th {\n",
       "        vertical-align: top;\n",
       "    }\n",
       "\n",
       "    .dataframe thead th {\n",
       "        text-align: right;\n",
       "    }\n",
       "</style>\n",
       "<table border=\"1\" class=\"dataframe\">\n",
       "  <thead>\n",
       "    <tr style=\"text-align: right;\">\n",
       "      <th></th>\n",
       "      <th>ID</th>\n",
       "      <th>Clump_Thickness</th>\n",
       "      <th>Uniformity_CellSize</th>\n",
       "      <th>Uniformity_CellShape</th>\n",
       "      <th>MarginalAdhesion</th>\n",
       "      <th>SE_CellSize</th>\n",
       "      <th>Bare_Nuclei</th>\n",
       "      <th>Bland_Chromatin</th>\n",
       "      <th>N_Nucleoli</th>\n",
       "      <th>Mitoses</th>\n",
       "      <th>Result</th>\n",
       "    </tr>\n",
       "  </thead>\n",
       "  <tbody>\n",
       "    <tr>\n",
       "      <th>694</th>\n",
       "      <td>776715</td>\n",
       "      <td>3</td>\n",
       "      <td>1</td>\n",
       "      <td>1</td>\n",
       "      <td>1</td>\n",
       "      <td>3</td>\n",
       "      <td>2</td>\n",
       "      <td>1</td>\n",
       "      <td>1</td>\n",
       "      <td>1</td>\n",
       "      <td>2</td>\n",
       "    </tr>\n",
       "    <tr>\n",
       "      <th>695</th>\n",
       "      <td>841769</td>\n",
       "      <td>2</td>\n",
       "      <td>1</td>\n",
       "      <td>1</td>\n",
       "      <td>1</td>\n",
       "      <td>2</td>\n",
       "      <td>1</td>\n",
       "      <td>1</td>\n",
       "      <td>1</td>\n",
       "      <td>1</td>\n",
       "      <td>2</td>\n",
       "    </tr>\n",
       "    <tr>\n",
       "      <th>696</th>\n",
       "      <td>888820</td>\n",
       "      <td>5</td>\n",
       "      <td>10</td>\n",
       "      <td>10</td>\n",
       "      <td>3</td>\n",
       "      <td>7</td>\n",
       "      <td>3</td>\n",
       "      <td>8</td>\n",
       "      <td>10</td>\n",
       "      <td>2</td>\n",
       "      <td>4</td>\n",
       "    </tr>\n",
       "    <tr>\n",
       "      <th>697</th>\n",
       "      <td>897471</td>\n",
       "      <td>4</td>\n",
       "      <td>8</td>\n",
       "      <td>6</td>\n",
       "      <td>4</td>\n",
       "      <td>3</td>\n",
       "      <td>4</td>\n",
       "      <td>10</td>\n",
       "      <td>6</td>\n",
       "      <td>1</td>\n",
       "      <td>4</td>\n",
       "    </tr>\n",
       "    <tr>\n",
       "      <th>698</th>\n",
       "      <td>897471</td>\n",
       "      <td>4</td>\n",
       "      <td>8</td>\n",
       "      <td>8</td>\n",
       "      <td>5</td>\n",
       "      <td>4</td>\n",
       "      <td>5</td>\n",
       "      <td>10</td>\n",
       "      <td>4</td>\n",
       "      <td>1</td>\n",
       "      <td>4</td>\n",
       "    </tr>\n",
       "  </tbody>\n",
       "</table>\n",
       "</div>"
      ],
      "text/plain": [
       "         ID  Clump_Thickness  Uniformity_CellSize  Uniformity_CellShape  \\\n",
       "694  776715                3                    1                     1   \n",
       "695  841769                2                    1                     1   \n",
       "696  888820                5                   10                    10   \n",
       "697  897471                4                    8                     6   \n",
       "698  897471                4                    8                     8   \n",
       "\n",
       "     MarginalAdhesion  SE_CellSize Bare_Nuclei  Bland_Chromatin  N_Nucleoli  \\\n",
       "694                 1            3           2                1           1   \n",
       "695                 1            2           1                1           1   \n",
       "696                 3            7           3                8          10   \n",
       "697                 4            3           4               10           6   \n",
       "698                 5            4           5               10           4   \n",
       "\n",
       "     Mitoses  Result  \n",
       "694        1       2  \n",
       "695        1       2  \n",
       "696        2       4  \n",
       "697        1       4  \n",
       "698        1       4  "
      ]
     },
     "execution_count": 105,
     "metadata": {},
     "output_type": "execute_result"
    }
   ],
   "source": [
    "df.tail()"
   ]
  },
  {
   "cell_type": "code",
   "execution_count": 106,
   "metadata": {},
   "outputs": [],
   "source": [
    "import numpy as np\n",
    "\n",
    "# here, we are assuming \"+\" represents approved\n",
    "df['Result_Updated'] = np.where(df['Result'] == 4, 1, 0)\n",
    "df.drop(['ID', 'Result'], axis = 1, inplace = True)"
   ]
  },
  {
   "cell_type": "code",
   "execution_count": 107,
   "metadata": {},
   "outputs": [
    {
     "data": {
      "text/html": [
       "<div>\n",
       "<style scoped>\n",
       "    .dataframe tbody tr th:only-of-type {\n",
       "        vertical-align: middle;\n",
       "    }\n",
       "\n",
       "    .dataframe tbody tr th {\n",
       "        vertical-align: top;\n",
       "    }\n",
       "\n",
       "    .dataframe thead th {\n",
       "        text-align: right;\n",
       "    }\n",
       "</style>\n",
       "<table border=\"1\" class=\"dataframe\">\n",
       "  <thead>\n",
       "    <tr style=\"text-align: right;\">\n",
       "      <th></th>\n",
       "      <th>Clump_Thickness</th>\n",
       "      <th>Uniformity_CellSize</th>\n",
       "      <th>Uniformity_CellShape</th>\n",
       "      <th>MarginalAdhesion</th>\n",
       "      <th>SE_CellSize</th>\n",
       "      <th>Bland_Chromatin</th>\n",
       "      <th>N_Nucleoli</th>\n",
       "      <th>Mitoses</th>\n",
       "      <th>Result_Updated</th>\n",
       "    </tr>\n",
       "  </thead>\n",
       "  <tbody>\n",
       "    <tr>\n",
       "      <th>count</th>\n",
       "      <td>699.000000</td>\n",
       "      <td>699.000000</td>\n",
       "      <td>699.000000</td>\n",
       "      <td>699.000000</td>\n",
       "      <td>699.000000</td>\n",
       "      <td>699.000000</td>\n",
       "      <td>699.000000</td>\n",
       "      <td>699.000000</td>\n",
       "      <td>699.000000</td>\n",
       "    </tr>\n",
       "    <tr>\n",
       "      <th>mean</th>\n",
       "      <td>4.417740</td>\n",
       "      <td>3.134478</td>\n",
       "      <td>3.207439</td>\n",
       "      <td>2.806867</td>\n",
       "      <td>3.216023</td>\n",
       "      <td>3.437768</td>\n",
       "      <td>2.866953</td>\n",
       "      <td>1.589413</td>\n",
       "      <td>0.344778</td>\n",
       "    </tr>\n",
       "    <tr>\n",
       "      <th>std</th>\n",
       "      <td>2.815741</td>\n",
       "      <td>3.051459</td>\n",
       "      <td>2.971913</td>\n",
       "      <td>2.855379</td>\n",
       "      <td>2.214300</td>\n",
       "      <td>2.438364</td>\n",
       "      <td>3.053634</td>\n",
       "      <td>1.715078</td>\n",
       "      <td>0.475636</td>\n",
       "    </tr>\n",
       "    <tr>\n",
       "      <th>min</th>\n",
       "      <td>1.000000</td>\n",
       "      <td>1.000000</td>\n",
       "      <td>1.000000</td>\n",
       "      <td>1.000000</td>\n",
       "      <td>1.000000</td>\n",
       "      <td>1.000000</td>\n",
       "      <td>1.000000</td>\n",
       "      <td>1.000000</td>\n",
       "      <td>0.000000</td>\n",
       "    </tr>\n",
       "    <tr>\n",
       "      <th>25%</th>\n",
       "      <td>2.000000</td>\n",
       "      <td>1.000000</td>\n",
       "      <td>1.000000</td>\n",
       "      <td>1.000000</td>\n",
       "      <td>2.000000</td>\n",
       "      <td>2.000000</td>\n",
       "      <td>1.000000</td>\n",
       "      <td>1.000000</td>\n",
       "      <td>0.000000</td>\n",
       "    </tr>\n",
       "    <tr>\n",
       "      <th>50%</th>\n",
       "      <td>4.000000</td>\n",
       "      <td>1.000000</td>\n",
       "      <td>1.000000</td>\n",
       "      <td>1.000000</td>\n",
       "      <td>2.000000</td>\n",
       "      <td>3.000000</td>\n",
       "      <td>1.000000</td>\n",
       "      <td>1.000000</td>\n",
       "      <td>0.000000</td>\n",
       "    </tr>\n",
       "    <tr>\n",
       "      <th>75%</th>\n",
       "      <td>6.000000</td>\n",
       "      <td>5.000000</td>\n",
       "      <td>5.000000</td>\n",
       "      <td>4.000000</td>\n",
       "      <td>4.000000</td>\n",
       "      <td>5.000000</td>\n",
       "      <td>4.000000</td>\n",
       "      <td>1.000000</td>\n",
       "      <td>1.000000</td>\n",
       "    </tr>\n",
       "    <tr>\n",
       "      <th>max</th>\n",
       "      <td>10.000000</td>\n",
       "      <td>10.000000</td>\n",
       "      <td>10.000000</td>\n",
       "      <td>10.000000</td>\n",
       "      <td>10.000000</td>\n",
       "      <td>10.000000</td>\n",
       "      <td>10.000000</td>\n",
       "      <td>10.000000</td>\n",
       "      <td>1.000000</td>\n",
       "    </tr>\n",
       "  </tbody>\n",
       "</table>\n",
       "</div>"
      ],
      "text/plain": [
       "       Clump_Thickness  Uniformity_CellSize  Uniformity_CellShape  \\\n",
       "count       699.000000           699.000000            699.000000   \n",
       "mean          4.417740             3.134478              3.207439   \n",
       "std           2.815741             3.051459              2.971913   \n",
       "min           1.000000             1.000000              1.000000   \n",
       "25%           2.000000             1.000000              1.000000   \n",
       "50%           4.000000             1.000000              1.000000   \n",
       "75%           6.000000             5.000000              5.000000   \n",
       "max          10.000000            10.000000             10.000000   \n",
       "\n",
       "       MarginalAdhesion  SE_CellSize  Bland_Chromatin  N_Nucleoli     Mitoses  \\\n",
       "count        699.000000   699.000000       699.000000  699.000000  699.000000   \n",
       "mean           2.806867     3.216023         3.437768    2.866953    1.589413   \n",
       "std            2.855379     2.214300         2.438364    3.053634    1.715078   \n",
       "min            1.000000     1.000000         1.000000    1.000000    1.000000   \n",
       "25%            1.000000     2.000000         2.000000    1.000000    1.000000   \n",
       "50%            1.000000     2.000000         3.000000    1.000000    1.000000   \n",
       "75%            4.000000     4.000000         5.000000    4.000000    1.000000   \n",
       "max           10.000000    10.000000        10.000000   10.000000   10.000000   \n",
       "\n",
       "       Result_Updated  \n",
       "count      699.000000  \n",
       "mean         0.344778  \n",
       "std          0.475636  \n",
       "min          0.000000  \n",
       "25%          0.000000  \n",
       "50%          0.000000  \n",
       "75%          1.000000  \n",
       "max          1.000000  "
      ]
     },
     "execution_count": 107,
     "metadata": {},
     "output_type": "execute_result"
    }
   ],
   "source": [
    "# summaries\n",
    "\n",
    "df.describe()"
   ]
  },
  {
   "cell_type": "code",
   "execution_count": 108,
   "metadata": {},
   "outputs": [
    {
     "data": {
      "text/plain": [
       "0    458\n",
       "1    241\n",
       "Name: Result_Updated, dtype: int64"
      ]
     },
     "execution_count": 108,
     "metadata": {},
     "output_type": "execute_result"
    }
   ],
   "source": [
    "# creating univariate statistics for target variable\n",
    "\n",
    "df['Result_Updated'].value_counts()"
   ]
  },
  {
   "cell_type": "code",
   "execution_count": 109,
   "metadata": {},
   "outputs": [
    {
     "data": {
      "text/plain": [
       "<matplotlib.axes._subplots.AxesSubplot at 0x1e614cd06d8>"
      ]
     },
     "execution_count": 109,
     "metadata": {},
     "output_type": "execute_result"
    },
    {
     "data": {
      "image/png": "[encoded data removed]",
      "text/plain": [
       "<Figure size 432x288 with 1 Axes>"
      ]
     },
     "metadata": {},
     "output_type": "display_data"
    }
   ],
   "source": [
    "import seaborn as sns\n",
    "sns.countplot(df['Result_Updated'],label=\"Count\")"
   ]
  },
  {
   "cell_type": "code",
   "execution_count": 110,
   "metadata": {},
   "outputs": [],
   "source": [
    "# we need to use complete dataset here, df"
   ]
  },
  {
   "cell_type": "raw",
   "metadata": {},
   "source": [
    "# Removing outliers: \n",
    " - calculate the boundaries, then get the counts of outlier, remove or treat?\n",
    " \n",
    "# Missing value:\n",
    " - counts of missing "
   ]
  },
  {
   "cell_type": "code",
   "execution_count": 111,
   "metadata": {},
   "outputs": [
    {
     "data": {
      "text/plain": [
       "Clump_Thickness         False\n",
       "Uniformity_CellSize     False\n",
       "Uniformity_CellShape    False\n",
       "MarginalAdhesion        False\n",
       "SE_CellSize             False\n",
       "Bare_Nuclei             False\n",
       "Bland_Chromatin         False\n",
       "N_Nucleoli              False\n",
       "Mitoses                 False\n",
       "Result_Updated          False\n",
       "dtype: bool"
      ]
     },
     "execution_count": 111,
     "metadata": {},
     "output_type": "execute_result"
    }
   ],
   "source": [
    "# from this code we can understand that there are no missing values in the data\n",
    "df.isnull().all()"
   ]
  },
  {
   "cell_type": "code",
   "execution_count": 112,
   "metadata": {},
   "outputs": [],
   "source": [
    "# here, we need to take additional care for special notations\n",
    "df = df[df['Bare_Nuclei'] != '?']"
   ]
  },
  {
   "cell_type": "code",
   "execution_count": 113,
   "metadata": {},
   "outputs": [
    {
     "data": {
      "text/plain": [
       "(683, 10)"
      ]
     },
     "execution_count": 113,
     "metadata": {},
     "output_type": "execute_result"
    }
   ],
   "source": [
    "df.shape"
   ]
  },
  {
   "cell_type": "code",
   "execution_count": 114,
   "metadata": {},
   "outputs": [
    {
     "data": {
      "text/html": [
       "<div>\n",
       "<style scoped>\n",
       "    .dataframe tbody tr th:only-of-type {\n",
       "        vertical-align: middle;\n",
       "    }\n",
       "\n",
       "    .dataframe tbody tr th {\n",
       "        vertical-align: top;\n",
       "    }\n",
       "\n",
       "    .dataframe thead th {\n",
       "        text-align: right;\n",
       "    }\n",
       "</style>\n",
       "<table border=\"1\" class=\"dataframe\">\n",
       "  <thead>\n",
       "    <tr style=\"text-align: right;\">\n",
       "      <th></th>\n",
       "      <th>Clump_Thickness</th>\n",
       "      <th>Uniformity_CellSize</th>\n",
       "      <th>Uniformity_CellShape</th>\n",
       "      <th>MarginalAdhesion</th>\n",
       "      <th>SE_CellSize</th>\n",
       "      <th>Bland_Chromatin</th>\n",
       "      <th>N_Nucleoli</th>\n",
       "      <th>Mitoses</th>\n",
       "      <th>Result_Updated</th>\n",
       "    </tr>\n",
       "  </thead>\n",
       "  <tbody>\n",
       "    <tr>\n",
       "      <th>Clump_Thickness</th>\n",
       "      <td>1.000000</td>\n",
       "      <td>0.642481</td>\n",
       "      <td>0.653470</td>\n",
       "      <td>0.487829</td>\n",
       "      <td>0.523596</td>\n",
       "      <td>0.553742</td>\n",
       "      <td>0.534066</td>\n",
       "      <td>0.350957</td>\n",
       "      <td>0.714790</td>\n",
       "    </tr>\n",
       "    <tr>\n",
       "      <th>Uniformity_CellSize</th>\n",
       "      <td>0.642481</td>\n",
       "      <td>1.000000</td>\n",
       "      <td>0.907228</td>\n",
       "      <td>0.706977</td>\n",
       "      <td>0.753544</td>\n",
       "      <td>0.755559</td>\n",
       "      <td>0.719346</td>\n",
       "      <td>0.460755</td>\n",
       "      <td>0.820801</td>\n",
       "    </tr>\n",
       "    <tr>\n",
       "      <th>Uniformity_CellShape</th>\n",
       "      <td>0.653470</td>\n",
       "      <td>0.907228</td>\n",
       "      <td>1.000000</td>\n",
       "      <td>0.685948</td>\n",
       "      <td>0.722462</td>\n",
       "      <td>0.735344</td>\n",
       "      <td>0.717963</td>\n",
       "      <td>0.441258</td>\n",
       "      <td>0.821891</td>\n",
       "    </tr>\n",
       "    <tr>\n",
       "      <th>MarginalAdhesion</th>\n",
       "      <td>0.487829</td>\n",
       "      <td>0.706977</td>\n",
       "      <td>0.685948</td>\n",
       "      <td>1.000000</td>\n",
       "      <td>0.594548</td>\n",
       "      <td>0.668567</td>\n",
       "      <td>0.603121</td>\n",
       "      <td>0.418898</td>\n",
       "      <td>0.706294</td>\n",
       "    </tr>\n",
       "    <tr>\n",
       "      <th>SE_CellSize</th>\n",
       "      <td>0.523596</td>\n",
       "      <td>0.753544</td>\n",
       "      <td>0.722462</td>\n",
       "      <td>0.594548</td>\n",
       "      <td>1.000000</td>\n",
       "      <td>0.618128</td>\n",
       "      <td>0.628926</td>\n",
       "      <td>0.480583</td>\n",
       "      <td>0.690958</td>\n",
       "    </tr>\n",
       "    <tr>\n",
       "      <th>Bland_Chromatin</th>\n",
       "      <td>0.553742</td>\n",
       "      <td>0.755559</td>\n",
       "      <td>0.735344</td>\n",
       "      <td>0.668567</td>\n",
       "      <td>0.618128</td>\n",
       "      <td>1.000000</td>\n",
       "      <td>0.665602</td>\n",
       "      <td>0.346011</td>\n",
       "      <td>0.758228</td>\n",
       "    </tr>\n",
       "    <tr>\n",
       "      <th>N_Nucleoli</th>\n",
       "      <td>0.534066</td>\n",
       "      <td>0.719346</td>\n",
       "      <td>0.717963</td>\n",
       "      <td>0.603121</td>\n",
       "      <td>0.628926</td>\n",
       "      <td>0.665602</td>\n",
       "      <td>1.000000</td>\n",
       "      <td>0.433757</td>\n",
       "      <td>0.718677</td>\n",
       "    </tr>\n",
       "    <tr>\n",
       "      <th>Mitoses</th>\n",
       "      <td>0.350957</td>\n",
       "      <td>0.460755</td>\n",
       "      <td>0.441258</td>\n",
       "      <td>0.418898</td>\n",
       "      <td>0.480583</td>\n",
       "      <td>0.346011</td>\n",
       "      <td>0.433757</td>\n",
       "      <td>1.000000</td>\n",
       "      <td>0.423448</td>\n",
       "    </tr>\n",
       "    <tr>\n",
       "      <th>Result_Updated</th>\n",
       "      <td>0.714790</td>\n",
       "      <td>0.820801</td>\n",
       "      <td>0.821891</td>\n",
       "      <td>0.706294</td>\n",
       "      <td>0.690958</td>\n",
       "      <td>0.758228</td>\n",
       "      <td>0.718677</td>\n",
       "      <td>0.423448</td>\n",
       "      <td>1.000000</td>\n",
       "    </tr>\n",
       "  </tbody>\n",
       "</table>\n",
       "</div>"
      ],
      "text/plain": [
       "                      Clump_Thickness  Uniformity_CellSize  \\\n",
       "Clump_Thickness              1.000000             0.642481   \n",
       "Uniformity_CellSize          0.642481             1.000000   \n",
       "Uniformity_CellShape         0.653470             0.907228   \n",
       "MarginalAdhesion             0.487829             0.706977   \n",
       "SE_CellSize                  0.523596             0.753544   \n",
       "Bland_Chromatin              0.553742             0.755559   \n",
       "N_Nucleoli                   0.534066             0.719346   \n",
       "Mitoses                      0.350957             0.460755   \n",
       "Result_Updated               0.714790             0.820801   \n",
       "\n",
       "                      Uniformity_CellShape  MarginalAdhesion  SE_CellSize  \\\n",
       "Clump_Thickness                   0.653470          0.487829     0.523596   \n",
       "Uniformity_CellSize               0.907228          0.706977     0.753544   \n",
       "Uniformity_CellShape              1.000000          0.685948     0.722462   \n",
       "MarginalAdhesion                  0.685948          1.000000     0.594548   \n",
       "SE_CellSize                       0.722462          0.594548     1.000000   \n",
       "Bland_Chromatin                   0.735344          0.668567     0.618128   \n",
       "N_Nucleoli                        0.717963          0.603121     0.628926   \n",
       "Mitoses                           0.441258          0.418898     0.480583   \n",
       "Result_Updated                    0.821891          0.706294     0.690958   \n",
       "\n",
       "                      Bland_Chromatin  N_Nucleoli   Mitoses  Result_Updated  \n",
       "Clump_Thickness              0.553742    0.534066  0.350957        0.714790  \n",
       "Uniformity_CellSize          0.755559    0.719346  0.460755        0.820801  \n",
       "Uniformity_CellShape         0.735344    0.717963  0.441258        0.821891  \n",
       "MarginalAdhesion             0.668567    0.603121  0.418898        0.706294  \n",
       "SE_CellSize                  0.618128    0.628926  0.480583        0.690958  \n",
       "Bland_Chromatin              1.000000    0.665602  0.346011        0.758228  \n",
       "N_Nucleoli                   0.665602    1.000000  0.433757        0.718677  \n",
       "Mitoses                      0.346011    0.433757  1.000000        0.423448  \n",
       "Result_Updated               0.758228    0.718677  0.423448        1.000000  "
      ]
     },
     "execution_count": 114,
     "metadata": {},
     "output_type": "execute_result"
    }
   ],
   "source": [
    "df.corr()"
   ]
  },
  {
   "cell_type": "code",
   "execution_count": 115,
   "metadata": {},
   "outputs": [
    {
     "data": {
      "text/plain": [
       "<matplotlib.axes._subplots.AxesSubplot at 0x1e615b25320>"
      ]
     },
     "execution_count": 115,
     "metadata": {},
     "output_type": "execute_result"
    },
    {
     "data": {
      "image/png": "[encoded data removed]",
      "text/plain": [
       "<Figure size 1008x1008 with 2 Axes>"
      ]
     },
     "metadata": {},
     "output_type": "display_data"
    }
   ],
   "source": [
    "import matplotlib.pyplot as plt\n",
    "corr = df.corr() # .corr is used for find corelation\n",
    "plt.figure(figsize=(14,14))\n",
    "sns.heatmap(corr, cbar = True,  square = True, annot=True, fmt= '.2f',annot_kws={'size': 15},\n",
    "           xticklabels= df.columns, yticklabels= df.columns,\n",
    "           cmap= 'coolwarm')"
   ]
  },
  {
   "cell_type": "code",
   "execution_count": 116,
   "metadata": {},
   "outputs": [],
   "source": [
    "df.drop(['Uniformity_CellShape'], axis = 1, inplace = True)\n",
    "df['Bare_Nuclei'] = df['Bare_Nuclei'].astype(float)"
   ]
  },
  {
   "cell_type": "code",
   "execution_count": 117,
   "metadata": {
    "scrolled": true
   },
   "outputs": [],
   "source": [
    "# outlier treatment\n",
    "\n",
    "# we could use the rule of thumb that tells all data should be within 3 sd's\n",
    "import scipy \n",
    "from scipy import stats\n",
    "df_cleaned = df[(np.abs(stats.zscore(df)) < 3).all(axis = 1)]"
   ]
  },
  {
   "cell_type": "code",
   "execution_count": 118,
   "metadata": {},
   "outputs": [
    {
     "data": {
      "text/plain": [
       "(632, 9)"
      ]
     },
     "execution_count": 118,
     "metadata": {},
     "output_type": "execute_result"
    }
   ],
   "source": [
    "# we can\n",
    "df_cleaned.shape"
   ]
  },
  {
   "cell_type": "code",
   "execution_count": 119,
   "metadata": {},
   "outputs": [
    {
     "data": {
      "text/html": [
       "<div>\n",
       "<style scoped>\n",
       "    .dataframe tbody tr th:only-of-type {\n",
       "        vertical-align: middle;\n",
       "    }\n",
       "\n",
       "    .dataframe tbody tr th {\n",
       "        vertical-align: top;\n",
       "    }\n",
       "\n",
       "    .dataframe thead th {\n",
       "        text-align: right;\n",
       "    }\n",
       "</style>\n",
       "<table border=\"1\" class=\"dataframe\">\n",
       "  <thead>\n",
       "    <tr style=\"text-align: right;\">\n",
       "      <th></th>\n",
       "      <th>Clump_Thickness</th>\n",
       "      <th>Uniformity_CellSize</th>\n",
       "      <th>MarginalAdhesion</th>\n",
       "      <th>SE_CellSize</th>\n",
       "      <th>Bare_Nuclei</th>\n",
       "      <th>Bland_Chromatin</th>\n",
       "      <th>N_Nucleoli</th>\n",
       "      <th>Mitoses</th>\n",
       "      <th>Result_Updated</th>\n",
       "    </tr>\n",
       "  </thead>\n",
       "  <tbody>\n",
       "    <tr>\n",
       "      <th>0</th>\n",
       "      <td>5</td>\n",
       "      <td>1</td>\n",
       "      <td>1</td>\n",
       "      <td>2</td>\n",
       "      <td>1.0</td>\n",
       "      <td>3</td>\n",
       "      <td>1</td>\n",
       "      <td>1</td>\n",
       "      <td>0</td>\n",
       "    </tr>\n",
       "    <tr>\n",
       "      <th>1</th>\n",
       "      <td>5</td>\n",
       "      <td>4</td>\n",
       "      <td>5</td>\n",
       "      <td>7</td>\n",
       "      <td>10.0</td>\n",
       "      <td>3</td>\n",
       "      <td>2</td>\n",
       "      <td>1</td>\n",
       "      <td>0</td>\n",
       "    </tr>\n",
       "    <tr>\n",
       "      <th>2</th>\n",
       "      <td>3</td>\n",
       "      <td>1</td>\n",
       "      <td>1</td>\n",
       "      <td>2</td>\n",
       "      <td>2.0</td>\n",
       "      <td>3</td>\n",
       "      <td>1</td>\n",
       "      <td>1</td>\n",
       "      <td>0</td>\n",
       "    </tr>\n",
       "    <tr>\n",
       "      <th>3</th>\n",
       "      <td>6</td>\n",
       "      <td>8</td>\n",
       "      <td>1</td>\n",
       "      <td>3</td>\n",
       "      <td>4.0</td>\n",
       "      <td>3</td>\n",
       "      <td>7</td>\n",
       "      <td>1</td>\n",
       "      <td>0</td>\n",
       "    </tr>\n",
       "    <tr>\n",
       "      <th>4</th>\n",
       "      <td>4</td>\n",
       "      <td>1</td>\n",
       "      <td>3</td>\n",
       "      <td>2</td>\n",
       "      <td>1.0</td>\n",
       "      <td>3</td>\n",
       "      <td>1</td>\n",
       "      <td>1</td>\n",
       "      <td>0</td>\n",
       "    </tr>\n",
       "  </tbody>\n",
       "</table>\n",
       "</div>"
      ],
      "text/plain": [
       "   Clump_Thickness  Uniformity_CellSize  MarginalAdhesion  SE_CellSize  \\\n",
       "0                5                    1                 1            2   \n",
       "1                5                    4                 5            7   \n",
       "2                3                    1                 1            2   \n",
       "3                6                    8                 1            3   \n",
       "4                4                    1                 3            2   \n",
       "\n",
       "   Bare_Nuclei  Bland_Chromatin  N_Nucleoli  Mitoses  Result_Updated  \n",
       "0          1.0                3           1        1               0  \n",
       "1         10.0                3           2        1               0  \n",
       "2          2.0                3           1        1               0  \n",
       "3          4.0                3           7        1               0  \n",
       "4          1.0                3           1        1               0  "
      ]
     },
     "execution_count": 119,
     "metadata": {},
     "output_type": "execute_result"
    }
   ],
   "source": [
    "df_cleaned.head()"
   ]
  },
  {
   "cell_type": "code",
   "execution_count": 120,
   "metadata": {},
   "outputs": [],
   "source": [
    "x = df_cleaned.drop(['Result_Updated'], axis = 1)\n",
    "y = df_cleaned['Result_Updated']"
   ]
  },
  {
   "cell_type": "code",
   "execution_count": 121,
   "metadata": {},
   "outputs": [],
   "source": [
    "import sklearn\n",
    "\n",
    "from sklearn.model_selection import train_test_split\n",
    "\n",
    "x_train,x_test,y_train,y_test = train_test_split(x,y, test_size = 0.2, random_state = 3)"
   ]
  },
  {
   "cell_type": "markdown",
   "metadata": {},
   "source": [
    "# LGBM"
   ]
  },
  {
   "cell_type": "code",
   "execution_count": 122,
   "metadata": {},
   "outputs": [
    {
     "name": "stderr",
     "output_type": "stream",
     "text": [
      "C:\\Users\\saich\\Anaconda3\\lib\\site-packages\\sklearn\\preprocessing\\label.py:151: DeprecationWarning: The truth value of an empty array is ambiguous. Returning False, but in future this will result in an error. Use `array.size > 0` to check that an array is not empty.\n",
      "  if diff:\n"
     ]
    }
   ],
   "source": [
    "# the probemd at hand is binary classification problem\n",
    "\n",
    "import lightgbm as lgbm\n",
    "\n",
    "lgb = lgbm.LGBMClassifier(learning_rate=0.01, n_estimators=50, boosting_type= 'gbdt', max_depth= 3, num_leaves= 100, objective= 'binary', metrics = \"auc\",\n",
    "                        random_state = 5)\n",
    "\n",
    "lgb.fit(x_train, y_train)\n",
    "predictions = lgb.predict(x_test)"
   ]
  },
  {
   "cell_type": "code",
   "execution_count": 123,
   "metadata": {},
   "outputs": [
    {
     "name": "stdout",
     "output_type": "stream",
     "text": [
      "Accuracy: 0.9291338582677166\n",
      "Precision: 0.9714285714285714\n",
      "Recall: 0.8095238095238095\n",
      "AUC: 0.8988795518207283\n"
     ]
    }
   ],
   "source": [
    "# calculating evaluation metrics\n",
    "from sklearn.metrics import accuracy_score, precision_score, recall_score, roc_auc_score\n",
    "print(\"Accuracy:\", accuracy_score(y_test, predictions))\n",
    "print(\"Precision:\", precision_score(y_test, predictions))\n",
    "print(\"Recall:\", recall_score(y_test, predictions))\n",
    "print(\"AUC:\", roc_auc_score(y_test, predictions))"
   ]
  },
  {
   "cell_type": "code",
   "execution_count": 124,
   "metadata": {},
   "outputs": [
    {
     "data": {
      "text/plain": [
       "array([[84,  1],\n",
       "       [ 8, 34]], dtype=int64)"
      ]
     },
     "execution_count": 124,
     "metadata": {},
     "output_type": "execute_result"
    }
   ],
   "source": [
    "from sklearn.metrics import confusion_matrix\n",
    "\n",
    "confusion_matrix(y_test, predictions)"
   ]
  },
  {
   "cell_type": "markdown",
   "metadata": {},
   "source": [
    "# logistic regression"
   ]
  },
  {
   "cell_type": "code",
   "execution_count": 125,
   "metadata": {},
   "outputs": [],
   "source": [
    "from sklearn.linear_model import LogisticRegression\n",
    "\n",
    "LogisticModel = LogisticRegression()\n",
    "\n",
    "LogisticModel.fit(x_train,y_train)\n",
    "predictions_Logistic = LogisticModel.predict(x_test)"
   ]
  },
  {
   "cell_type": "code",
   "execution_count": 126,
   "metadata": {},
   "outputs": [
    {
     "name": "stdout",
     "output_type": "stream",
     "text": [
      "Accuracy: 0.968503937007874\n",
      "Precision: 1.0\n",
      "Recall: 0.9047619047619048\n",
      "AUC: 0.9523809523809523\n"
     ]
    }
   ],
   "source": [
    "print(\"Accuracy:\", accuracy_score(y_test, predictions_Logistic))\n",
    "print(\"Precision:\", precision_score(y_test, predictions_Logistic))\n",
    "print(\"Recall:\", recall_score(y_test, predictions_Logistic))\n",
    "print(\"AUC:\", roc_auc_score(y_test, predictions_Logistic))"
   ]
  },
  {
   "cell_type": "code",
   "execution_count": 127,
   "metadata": {},
   "outputs": [
    {
     "data": {
      "text/plain": [
       "array([[85,  0],\n",
       "       [ 4, 38]], dtype=int64)"
      ]
     },
     "execution_count": 127,
     "metadata": {},
     "output_type": "execute_result"
    }
   ],
   "source": [
    "confusion_matrix(y_test, predictions_Logistic)"
   ]
  },
  {
   "cell_type": "markdown",
   "metadata": {},
   "source": [
    "# Random Forest"
   ]
  },
  {
   "cell_type": "code",
   "execution_count": 128,
   "metadata": {},
   "outputs": [],
   "source": [
    "from sklearn.ensemble import RandomForestClassifier\n",
    "\n",
    "RandomForest = RandomForestClassifier(max_depth = 10, random_state = 5, n_estimators= 500)\n",
    "\n",
    "RandomForest.fit(x_train, y_train)\n",
    "predictions_random_forest = RandomForest.predict(x_test)"
   ]
  },
  {
   "cell_type": "code",
   "execution_count": 129,
   "metadata": {},
   "outputs": [
    {
     "name": "stdout",
     "output_type": "stream",
     "text": [
      "Accuracy: 0.9606299212598425\n",
      "Precision: 0.9512195121951219\n",
      "Recall: 0.9285714285714286\n",
      "AUC: 0.9525210084033613\n"
     ]
    }
   ],
   "source": [
    "print(\"Accuracy:\", accuracy_score(y_test, predictions_random_forest))\n",
    "print(\"Precision:\", precision_score(y_test, predictions_random_forest))\n",
    "print(\"Recall:\", recall_score(y_test, predictions_random_forest))\n",
    "print(\"AUC:\", roc_auc_score(y_test, predictions_random_forest))"
   ]
  },
  {
   "cell_type": "code",
   "execution_count": 130,
   "metadata": {},
   "outputs": [
    {
     "data": {
      "text/plain": [
       "array([[83,  2],\n",
       "       [ 3, 39]], dtype=int64)"
      ]
     },
     "execution_count": 130,
     "metadata": {},
     "output_type": "execute_result"
    }
   ],
   "source": [
    "confusion_matrix(y_test, predictions_random_forest)"
   ]
  },
  {
   "cell_type": "code",
   "execution_count": 131,
   "metadata": {},
   "outputs": [],
   "source": [
    "importances = RandomForest.feature_importances_"
   ]
  },
  {
   "cell_type": "code",
   "execution_count": 132,
   "metadata": {},
   "outputs": [
    {
     "name": "stdout",
     "output_type": "stream",
     "text": [
      "Clump_Thickness = 0.08603099182780169\n",
      "Uniformity_CellSize = 0.2681161418276696\n",
      "MarginalAdhesion = 0.0812496241778832\n",
      "SE_CellSize = 0.09084702837136323\n",
      "Bare_Nuclei = 0.21598980971829013\n",
      "Bland_Chromatin = 0.1466002261559197\n",
      "N_Nucleoli = 0.1010236325070676\n",
      "Mitoses = 0.010142545414004988\n"
     ]
    }
   ],
   "source": [
    "for name, importance in zip(x_train.columns, RandomForest.feature_importances_):\n",
    "    print(name, \"=\", importance)"
   ]
  },
  {
   "cell_type": "code",
   "execution_count": null,
   "metadata": {},
   "outputs": [],
   "source": []
  },
  {
   "cell_type": "code",
   "execution_count": 133,
   "metadata": {},
   "outputs": [],
   "source": [
    "d = []\n",
    "for name, importance in zip(x_train.columns, RandomForest.feature_importances_):\n",
    "    d.append(\n",
    "        {\n",
    "            'Variable': name,\n",
    "            'Importance': importance,\n",
    "        }\n",
    "    )\n",
    "temp = pd.DataFrame(d)"
   ]
  },
  {
   "cell_type": "code",
   "execution_count": 134,
   "metadata": {
    "scrolled": true
   },
   "outputs": [
    {
     "data": {
      "text/html": [
       "<div>\n",
       "<style scoped>\n",
       "    .dataframe tbody tr th:only-of-type {\n",
       "        vertical-align: middle;\n",
       "    }\n",
       "\n",
       "    .dataframe tbody tr th {\n",
       "        vertical-align: top;\n",
       "    }\n",
       "\n",
       "    .dataframe thead th {\n",
       "        text-align: right;\n",
       "    }\n",
       "</style>\n",
       "<table border=\"1\" class=\"dataframe\">\n",
       "  <thead>\n",
       "    <tr style=\"text-align: right;\">\n",
       "      <th></th>\n",
       "      <th>Importance</th>\n",
       "      <th>Variable</th>\n",
       "    </tr>\n",
       "  </thead>\n",
       "  <tbody>\n",
       "    <tr>\n",
       "      <th>1</th>\n",
       "      <td>0.268116</td>\n",
       "      <td>Uniformity_CellSize</td>\n",
       "    </tr>\n",
       "    <tr>\n",
       "      <th>4</th>\n",
       "      <td>0.215990</td>\n",
       "      <td>Bare_Nuclei</td>\n",
       "    </tr>\n",
       "    <tr>\n",
       "      <th>5</th>\n",
       "      <td>0.146600</td>\n",
       "      <td>Bland_Chromatin</td>\n",
       "    </tr>\n",
       "    <tr>\n",
       "      <th>6</th>\n",
       "      <td>0.101024</td>\n",
       "      <td>N_Nucleoli</td>\n",
       "    </tr>\n",
       "    <tr>\n",
       "      <th>3</th>\n",
       "      <td>0.090847</td>\n",
       "      <td>SE_CellSize</td>\n",
       "    </tr>\n",
       "    <tr>\n",
       "      <th>0</th>\n",
       "      <td>0.086031</td>\n",
       "      <td>Clump_Thickness</td>\n",
       "    </tr>\n",
       "    <tr>\n",
       "      <th>2</th>\n",
       "      <td>0.081250</td>\n",
       "      <td>MarginalAdhesion</td>\n",
       "    </tr>\n",
       "    <tr>\n",
       "      <th>7</th>\n",
       "      <td>0.010143</td>\n",
       "      <td>Mitoses</td>\n",
       "    </tr>\n",
       "  </tbody>\n",
       "</table>\n",
       "</div>"
      ],
      "text/plain": [
       "   Importance             Variable\n",
       "1    0.268116  Uniformity_CellSize\n",
       "4    0.215990          Bare_Nuclei\n",
       "5    0.146600      Bland_Chromatin\n",
       "6    0.101024           N_Nucleoli\n",
       "3    0.090847          SE_CellSize\n",
       "0    0.086031      Clump_Thickness\n",
       "2    0.081250     MarginalAdhesion\n",
       "7    0.010143              Mitoses"
      ]
     },
     "execution_count": 134,
     "metadata": {},
     "output_type": "execute_result"
    }
   ],
   "source": [
    "# sorted values of variable importances\n",
    "temp.sort_values('Importance', ascending= False)"
   ]
  },
  {
   "cell_type": "code",
   "execution_count": null,
   "metadata": {},
   "outputs": [],
   "source": []
  }
 ],
 "metadata": {
  "kernelspec": {
   "display_name": "Python 3",
   "language": "python",
   "name": "python3"
  },
  "language_info": {
   "codemirror_mode": {
    "name": "ipython",
    "version": 3
   },
   "file_extension": ".py",
   "mimetype": "text/x-python",
   "name": "python",
   "nbconvert_exporter": "python",
   "pygments_lexer": "ipython3",
   "version": "3.6.5"
  }
 },
 "nbformat": 4,
 "nbformat_minor": 2
}
